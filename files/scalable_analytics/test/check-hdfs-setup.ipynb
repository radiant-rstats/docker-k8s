{
 "cells": [
  {
   "cell_type": "markdown",
   "metadata": {},
   "source": [
    "# Checking hdfs set up\n",
    "\n",
    "Run the commands below to verify that your setup for HDFS is running as expected\n",
    "\n",
    "> Note: Make sure to select a \"Bash\" kernel to run this notebook"
   ]
  },
  {
   "cell_type": "code",
   "execution_count": 1,
   "metadata": {
    "vscode": {
     "languageId": "shellscript"
    }
   },
   "outputs": [
    {
     "name": "stdout",
     "output_type": "stream",
     "text": [
      "/opt/hadoop\n"
     ]
    }
   ],
   "source": [
    "# location of hadoop scripts\n",
    "# should be /opt/hadoop\n",
    "echo $HADOOP_HOME"
   ]
  },
  {
   "cell_type": "code",
   "execution_count": 2,
   "metadata": {
    "vscode": {
     "languageId": "shellscript"
    }
   },
   "outputs": [
    {
     "name": "stdout",
     "output_type": "stream",
     "text": [
      "2025-02-15 10:48:34,681 INFO namenode.NameNode: STARTUP_MSG: \n",
      "/************************************************************\n",
      "STARTUP_MSG: Starting NameNode\n",
      "STARTUP_MSG:   host = 9a0138ce209d/172.18.0.2\n",
      "STARTUP_MSG:   args = [-format, -force]\n",
      "STARTUP_MSG:   version = 3.3.4\n",
      "STARTUP_MSG:   classpath = /opt/hadoop/etc/hadoop:/opt/hadoop/share/hadoop/common/lib/commons-beanutils-1.9.4.jar:/opt/hadoop/share/hadoop/common/lib/asm-5.0.4.jar:/opt/hadoop/share/hadoop/common/lib/jul-to-slf4j-1.7.36.jar:/opt/hadoop/share/hadoop/common/lib/jsp-api-2.1.jar:/opt/hadoop/share/hadoop/common/lib/hadoop-shaded-protobuf_3_7-1.1.1.jar:/opt/hadoop/share/hadoop/common/lib/slf4j-reload4j-1.7.36.jar:/opt/hadoop/share/hadoop/common/lib/jetty-security-9.4.43.v20210629.jar:/opt/hadoop/share/hadoop/common/lib/curator-client-4.2.0.jar:/opt/hadoop/share/hadoop/common/lib/snappy-java-1.1.8.2.jar:/opt/hadoop/share/hadoop/common/lib/jetty-util-ajax-9.4.43.v20210629.jar:/opt/hadoop/share/hadoop/common/lib/jetty-util-9.4.43.v20210629.jar:/opt/hadoop/share/hadoop/common/lib/javax.servlet-api-3.1.0.jar:/opt/hadoop/share/hadoop/common/lib/jersey-server-1.19.jar:/opt/hadoop/share/hadoop/common/lib/dnsjava-2.1.7.jar:/opt/hadoop/share/hadoop/common/lib/woodstox-core-5.3.0.jar:/opt/hadoop/share/hadoop/common/lib/listenablefuture-9999.0-empty-to-avoid-conflict-with-guava.jar:/opt/hadoop/share/hadoop/common/lib/jsr311-api-1.1.1.jar:/opt/hadoop/share/hadoop/common/lib/httpcore-4.4.13.jar:/opt/hadoop/share/hadoop/common/lib/accessors-smart-2.4.7.jar:/opt/hadoop/share/hadoop/common/lib/kerb-util-1.0.1.jar:/opt/hadoop/share/hadoop/common/lib/jetty-servlet-9.4.43.v20210629.jar:/opt/hadoop/share/hadoop/common/lib/commons-lang3-3.12.0.jar:/opt/hadoop/share/hadoop/common/lib/jettison-1.1.jar:/opt/hadoop/share/hadoop/common/lib/jakarta.activation-api-1.2.1.jar:/opt/hadoop/share/hadoop/common/lib/jackson-xc-1.9.13.jar:/opt/hadoop/share/hadoop/common/lib/jaxb-impl-2.2.3-1.jar:/opt/hadoop/share/hadoop/common/lib/audience-annotations-0.5.0.jar:/opt/hadoop/share/hadoop/common/lib/jsch-0.1.55.jar:/opt/hadoop/share/hadoop/common/lib/stax2-api-4.2.1.jar:/opt/hadoop/share/hadoop/common/lib/jsr305-3.0.2.jar:/opt/hadoop/share/hadoop/common/lib/netty-3.10.6.Final.jar:/opt/hadoop/share/hadoop/common/lib/jetty-io-9.4.43.v20210629.jar:/opt/hadoop/share/hadoop/common/lib/jetty-webapp-9.4.43.v20210629.jar:/opt/hadoop/share/hadoop/common/lib/jcip-annotations-1.0-1.jar:/opt/hadoop/share/hadoop/common/lib/commons-collections-3.2.2.jar:/opt/hadoop/share/hadoop/common/lib/kerb-server-1.0.1.jar:/opt/hadoop/share/hadoop/common/lib/hadoop-annotations-3.3.4.jar:/opt/hadoop/share/hadoop/common/lib/jetty-server-9.4.43.v20210629.jar:/opt/hadoop/share/hadoop/common/lib/json-smart-2.4.7.jar:/opt/hadoop/share/hadoop/common/lib/jetty-xml-9.4.43.v20210629.jar:/opt/hadoop/share/hadoop/common/lib/kerb-core-1.0.1.jar:/opt/hadoop/share/hadoop/common/lib/kerby-pkix-1.0.1.jar:/opt/hadoop/share/hadoop/common/lib/commons-configuration2-2.1.1.jar:/opt/hadoop/share/hadoop/common/lib/avro-1.7.7.jar:/opt/hadoop/share/hadoop/common/lib/hadoop-shaded-guava-1.1.1.jar:/opt/hadoop/share/hadoop/common/lib/failureaccess-1.0.jar:/opt/hadoop/share/hadoop/common/lib/kerb-simplekdc-1.0.1.jar:/opt/hadoop/share/hadoop/common/lib/guava-27.0-jre.jar:/opt/hadoop/share/hadoop/common/lib/commons-codec-1.15.jar:/opt/hadoop/share/hadoop/common/lib/metrics-core-3.2.4.jar:/opt/hadoop/share/hadoop/common/lib/jersey-json-1.19.jar:/opt/hadoop/share/hadoop/common/lib/jackson-mapper-asl-1.9.13.jar:/opt/hadoop/share/hadoop/common/lib/hadoop-auth-3.3.4.jar:/opt/hadoop/share/hadoop/common/lib/commons-text-1.4.jar:/opt/hadoop/share/hadoop/common/lib/protobuf-java-2.5.0.jar:/opt/hadoop/share/hadoop/common/lib/kerby-asn1-1.0.1.jar:/opt/hadoop/share/hadoop/common/lib/kerby-config-1.0.1.jar:/opt/hadoop/share/hadoop/common/lib/kerb-admin-1.0.1.jar:/opt/hadoop/share/hadoop/common/lib/curator-recipes-4.2.0.jar:/opt/hadoop/share/hadoop/common/lib/zookeeper-3.5.6.jar:/opt/hadoop/share/hadoop/common/lib/commons-net-3.6.jar:/opt/hadoop/share/hadoop/common/lib/kerb-crypto-1.0.1.jar:/opt/hadoop/share/hadoop/common/lib/commons-io-2.8.0.jar:/opt/hadoop/share/hadoop/common/lib/kerby-xdr-1.0.1.jar:/opt/hadoop/share/hadoop/common/lib/reload4j-1.2.22.jar:/opt/hadoop/share/hadoop/common/lib/kerb-common-1.0.1.jar:/opt/hadoop/share/hadoop/common/lib/nimbus-jose-jwt-9.8.1.jar:/opt/hadoop/share/hadoop/common/lib/kerby-util-1.0.1.jar:/opt/hadoop/share/hadoop/common/lib/commons-compress-1.21.jar:/opt/hadoop/share/hadoop/common/lib/checker-qual-2.5.2.jar:/opt/hadoop/share/hadoop/common/lib/slf4j-api-1.7.36.jar:/opt/hadoop/share/hadoop/common/lib/commons-daemon-1.0.13.jar:/opt/hadoop/share/hadoop/common/lib/jackson-databind-2.12.7.jar:/opt/hadoop/share/hadoop/common/lib/curator-framework-4.2.0.jar:/opt/hadoop/share/hadoop/common/lib/animal-sniffer-annotations-1.17.jar:/opt/hadoop/share/hadoop/common/lib/commons-math3-3.1.1.jar:/opt/hadoop/share/hadoop/common/lib/token-provider-1.0.1.jar:/opt/hadoop/share/hadoop/common/lib/jersey-core-1.19.jar:/opt/hadoop/share/hadoop/common/lib/jackson-core-asl-1.9.13.jar:/opt/hadoop/share/hadoop/common/lib/commons-logging-1.1.3.jar:/opt/hadoop/share/hadoop/common/lib/zookeeper-jute-3.5.6.jar:/opt/hadoop/share/hadoop/common/lib/jackson-annotations-2.12.7.jar:/opt/hadoop/share/hadoop/common/lib/jersey-servlet-1.19.jar:/opt/hadoop/share/hadoop/common/lib/jaxb-api-2.2.11.jar:/opt/hadoop/share/hadoop/common/lib/jackson-core-2.12.7.jar:/opt/hadoop/share/hadoop/common/lib/gson-2.8.9.jar:/opt/hadoop/share/hadoop/common/lib/paranamer-2.3.jar:/opt/hadoop/share/hadoop/common/lib/httpclient-4.5.13.jar:/opt/hadoop/share/hadoop/common/lib/jackson-jaxrs-1.9.13.jar:/opt/hadoop/share/hadoop/common/lib/kerb-identity-1.0.1.jar:/opt/hadoop/share/hadoop/common/lib/re2j-1.1.jar:/opt/hadoop/share/hadoop/common/lib/kerb-client-1.0.1.jar:/opt/hadoop/share/hadoop/common/lib/jetty-http-9.4.43.v20210629.jar:/opt/hadoop/share/hadoop/common/lib/commons-cli-1.2.jar:/opt/hadoop/share/hadoop/common/lib/j2objc-annotations-1.1.jar:/opt/hadoop/share/hadoop/common/hadoop-common-3.3.4.jar:/opt/hadoop/share/hadoop/common/hadoop-kms-3.3.4.jar:/opt/hadoop/share/hadoop/common/hadoop-common-3.3.4-tests.jar:/opt/hadoop/share/hadoop/common/hadoop-nfs-3.3.4.jar:/opt/hadoop/share/hadoop/common/hadoop-registry-3.3.4.jar:/opt/hadoop/share/hadoop/hdfs:/opt/hadoop/share/hadoop/hdfs/lib/netty-transport-native-epoll-4.1.77.Final-linux-x86_64.jar:/opt/hadoop/share/hadoop/hdfs/lib/netty-all-4.1.77.Final.jar:/opt/hadoop/share/hadoop/hdfs/lib/netty-transport-rxtx-4.1.77.Final.jar:/opt/hadoop/share/hadoop/hdfs/lib/commons-beanutils-1.9.4.jar:/opt/hadoop/share/hadoop/hdfs/lib/json-simple-1.1.1.jar:/opt/hadoop/share/hadoop/hdfs/lib/asm-5.0.4.jar:/opt/hadoop/share/hadoop/hdfs/lib/hadoop-shaded-protobuf_3_7-1.1.1.jar:/opt/hadoop/share/hadoop/hdfs/lib/jetty-security-9.4.43.v20210629.jar:/opt/hadoop/share/hadoop/hdfs/lib/curator-client-4.2.0.jar:/opt/hadoop/share/hadoop/hdfs/lib/snappy-java-1.1.8.2.jar:/opt/hadoop/share/hadoop/hdfs/lib/okio-2.8.0.jar:/opt/hadoop/share/hadoop/hdfs/lib/netty-codec-haproxy-4.1.77.Final.jar:/opt/hadoop/share/hadoop/hdfs/lib/jetty-util-ajax-9.4.43.v20210629.jar:/opt/hadoop/share/hadoop/hdfs/lib/netty-codec-4.1.77.Final.jar:/opt/hadoop/share/hadoop/hdfs/lib/netty-transport-4.1.77.Final.jar:/opt/hadoop/share/hadoop/hdfs/lib/netty-resolver-dns-4.1.77.Final.jar:/opt/hadoop/share/hadoop/hdfs/lib/netty-resolver-dns-native-macos-4.1.77.Final-osx-aarch_64.jar:/opt/hadoop/share/hadoop/hdfs/lib/jetty-util-9.4.43.v20210629.jar:/opt/hadoop/share/hadoop/hdfs/lib/netty-codec-xml-4.1.77.Final.jar:/opt/hadoop/share/hadoop/hdfs/lib/javax.servlet-api-3.1.0.jar:/opt/hadoop/share/hadoop/hdfs/lib/jersey-server-1.19.jar:/opt/hadoop/share/hadoop/hdfs/lib/netty-transport-sctp-4.1.77.Final.jar:/opt/hadoop/share/hadoop/hdfs/lib/dnsjava-2.1.7.jar:/opt/hadoop/share/hadoop/hdfs/lib/woodstox-core-5.3.0.jar:/opt/hadoop/share/hadoop/hdfs/lib/netty-codec-smtp-4.1.77.Final.jar:/opt/hadoop/share/hadoop/hdfs/lib/listenablefuture-9999.0-empty-to-avoid-conflict-with-guava.jar:/opt/hadoop/share/hadoop/hdfs/lib/jsr311-api-1.1.1.jar:/opt/hadoop/share/hadoop/hdfs/lib/httpcore-4.4.13.jar:/opt/hadoop/share/hadoop/hdfs/lib/accessors-smart-2.4.7.jar:/opt/hadoop/share/hadoop/hdfs/lib/kerb-util-1.0.1.jar:/opt/hadoop/share/hadoop/hdfs/lib/okhttp-4.9.3.jar:/opt/hadoop/share/hadoop/hdfs/lib/jetty-servlet-9.4.43.v20210629.jar:/opt/hadoop/share/hadoop/hdfs/lib/commons-lang3-3.12.0.jar:/opt/hadoop/share/hadoop/hdfs/lib/netty-codec-stomp-4.1.77.Final.jar:/opt/hadoop/share/hadoop/hdfs/lib/jettison-1.1.jar:/opt/hadoop/share/hadoop/hdfs/lib/jakarta.activation-api-1.2.1.jar:/opt/hadoop/share/hadoop/hdfs/lib/jackson-xc-1.9.13.jar:/opt/hadoop/share/hadoop/hdfs/lib/jaxb-impl-2.2.3-1.jar:/opt/hadoop/share/hadoop/hdfs/lib/audience-annotations-0.5.0.jar:/opt/hadoop/share/hadoop/hdfs/lib/jsch-0.1.55.jar:/opt/hadoop/share/hadoop/hdfs/lib/stax2-api-4.2.1.jar:/opt/hadoop/share/hadoop/hdfs/lib/jsr305-3.0.2.jar:/opt/hadoop/share/hadoop/hdfs/lib/netty-3.10.6.Final.jar:/opt/hadoop/share/hadoop/hdfs/lib/jetty-io-9.4.43.v20210629.jar:/opt/hadoop/share/hadoop/hdfs/lib/jetty-webapp-9.4.43.v20210629.jar:/opt/hadoop/share/hadoop/hdfs/lib/jcip-annotations-1.0-1.jar:/opt/hadoop/share/hadoop/hdfs/lib/commons-collections-3.2.2.jar:/opt/hadoop/share/hadoop/hdfs/lib/kerb-server-1.0.1.jar:/opt/hadoop/share/hadoop/hdfs/lib/netty-transport-native-kqueue-4.1.77.Final-osx-aarch_64.jar:/opt/hadoop/share/hadoop/hdfs/lib/hadoop-annotations-3.3.4.jar:/opt/hadoop/share/hadoop/hdfs/lib/jetty-server-9.4.43.v20210629.jar:/opt/hadoop/share/hadoop/hdfs/lib/json-smart-2.4.7.jar:/opt/hadoop/share/hadoop/hdfs/lib/jetty-xml-9.4.43.v20210629.jar:/opt/hadoop/share/hadoop/hdfs/lib/kerb-core-1.0.1.jar:/opt/hadoop/share/hadoop/hdfs/lib/netty-transport-native-kqueue-4.1.77.Final-osx-x86_64.jar:/opt/hadoop/share/hadoop/hdfs/lib/netty-transport-native-epoll-4.1.77.Final-linux-aarch_64.jar:/opt/hadoop/share/hadoop/hdfs/lib/kerby-pkix-1.0.1.jar:/opt/hadoop/share/hadoop/hdfs/lib/commons-configuration2-2.1.1.jar:/opt/hadoop/share/hadoop/hdfs/lib/avro-1.7.7.jar:/opt/hadoop/share/hadoop/hdfs/lib/hadoop-shaded-guava-1.1.1.jar:/opt/hadoop/share/hadoop/hdfs/lib/netty-buffer-4.1.77.Final.jar:/opt/hadoop/share/hadoop/hdfs/lib/netty-resolver-4.1.77.Final.jar:/opt/hadoop/share/hadoop/hdfs/lib/failureaccess-1.0.jar:/opt/hadoop/share/hadoop/hdfs/lib/kerb-simplekdc-1.0.1.jar:/opt/hadoop/share/hadoop/hdfs/lib/guava-27.0-jre.jar:/opt/hadoop/share/hadoop/hdfs/lib/commons-codec-1.15.jar:/opt/hadoop/share/hadoop/hdfs/lib/netty-transport-classes-kqueue-4.1.77.Final.jar:/opt/hadoop/share/hadoop/hdfs/lib/jersey-json-1.19.jar:/opt/hadoop/share/hadoop/hdfs/lib/jackson-mapper-asl-1.9.13.jar:/opt/hadoop/share/hadoop/hdfs/lib/netty-codec-memcache-4.1.77.Final.jar:/opt/hadoop/share/hadoop/hdfs/lib/hadoop-auth-3.3.4.jar:/opt/hadoop/share/hadoop/hdfs/lib/commons-text-1.4.jar:/opt/hadoop/share/hadoop/hdfs/lib/netty-handler-4.1.77.Final.jar:/opt/hadoop/share/hadoop/hdfs/lib/netty-codec-socks-4.1.77.Final.jar:/opt/hadoop/share/hadoop/hdfs/lib/kotlin-stdlib-common-1.4.10.jar:/opt/hadoop/share/hadoop/hdfs/lib/protobuf-java-2.5.0.jar:/opt/hadoop/share/hadoop/hdfs/lib/kerby-asn1-1.0.1.jar:/opt/hadoop/share/hadoop/hdfs/lib/kerby-config-1.0.1.jar:/opt/hadoop/share/hadoop/hdfs/lib/netty-resolver-dns-classes-macos-4.1.77.Final.jar:/opt/hadoop/share/hadoop/hdfs/lib/kotlin-stdlib-1.4.10.jar:/opt/hadoop/share/hadoop/hdfs/lib/kerb-admin-1.0.1.jar:/opt/hadoop/share/hadoop/hdfs/lib/netty-handler-proxy-4.1.77.Final.jar:/opt/hadoop/share/hadoop/hdfs/lib/curator-recipes-4.2.0.jar:/opt/hadoop/share/hadoop/hdfs/lib/zookeeper-3.5.6.jar:/opt/hadoop/share/hadoop/hdfs/lib/commons-net-3.6.jar:/opt/hadoop/share/hadoop/hdfs/lib/kerb-crypto-1.0.1.jar:/opt/hadoop/share/hadoop/hdfs/lib/netty-codec-http2-4.1.77.Final.jar:/opt/hadoop/share/hadoop/hdfs/lib/commons-io-2.8.0.jar:/opt/hadoop/share/hadoop/hdfs/lib/kerby-xdr-1.0.1.jar:/opt/hadoop/share/hadoop/hdfs/lib/reload4j-1.2.22.jar:/opt/hadoop/share/hadoop/hdfs/lib/kerb-common-1.0.1.jar:/opt/hadoop/share/hadoop/hdfs/lib/netty-codec-mqtt-4.1.77.Final.jar:/opt/hadoop/share/hadoop/hdfs/lib/nimbus-jose-jwt-9.8.1.jar:/opt/hadoop/share/hadoop/hdfs/lib/kerby-util-1.0.1.jar:/opt/hadoop/share/hadoop/hdfs/lib/commons-compress-1.21.jar:/opt/hadoop/share/hadoop/hdfs/lib/checker-qual-2.5.2.jar:/opt/hadoop/share/hadoop/hdfs/lib/netty-codec-dns-4.1.77.Final.jar:/opt/hadoop/share/hadoop/hdfs/lib/commons-daemon-1.0.13.jar:/opt/hadoop/share/hadoop/hdfs/lib/jackson-databind-2.12.7.jar:/opt/hadoop/share/hadoop/hdfs/lib/curator-framework-4.2.0.jar:/opt/hadoop/share/hadoop/hdfs/lib/netty-transport-native-unix-common-4.1.77.Final.jar:/opt/hadoop/share/hadoop/hdfs/lib/animal-sniffer-annotations-1.17.jar:/opt/hadoop/share/hadoop/hdfs/lib/commons-math3-3.1.1.jar:/opt/hadoop/share/hadoop/hdfs/lib/token-provider-1.0.1.jar:/opt/hadoop/share/hadoop/hdfs/lib/jersey-core-1.19.jar:/opt/hadoop/share/hadoop/hdfs/lib/netty-codec-redis-4.1.77.Final.jar:/opt/hadoop/share/hadoop/hdfs/lib/jackson-core-asl-1.9.13.jar:/opt/hadoop/share/hadoop/hdfs/lib/leveldbjni-all-1.8.jar:/opt/hadoop/share/hadoop/hdfs/lib/netty-common-4.1.77.Final.jar:/opt/hadoop/share/hadoop/hdfs/lib/commons-logging-1.1.3.jar:/opt/hadoop/share/hadoop/hdfs/lib/zookeeper-jute-3.5.6.jar:/opt/hadoop/share/hadoop/hdfs/lib/jackson-annotations-2.12.7.jar:/opt/hadoop/share/hadoop/hdfs/lib/jersey-servlet-1.19.jar:/opt/hadoop/share/hadoop/hdfs/lib/jaxb-api-2.2.11.jar:/opt/hadoop/share/hadoop/hdfs/lib/jackson-core-2.12.7.jar:/opt/hadoop/share/hadoop/hdfs/lib/gson-2.8.9.jar:/opt/hadoop/share/hadoop/hdfs/lib/netty-resolver-dns-native-macos-4.1.77.Final-osx-x86_64.jar:/opt/hadoop/share/hadoop/hdfs/lib/paranamer-2.3.jar:/opt/hadoop/share/hadoop/hdfs/lib/httpclient-4.5.13.jar:/opt/hadoop/share/hadoop/hdfs/lib/jackson-jaxrs-1.9.13.jar:/opt/hadoop/share/hadoop/hdfs/lib/netty-transport-classes-epoll-4.1.77.Final.jar:/opt/hadoop/share/hadoop/hdfs/lib/kerb-identity-1.0.1.jar:/opt/hadoop/share/hadoop/hdfs/lib/re2j-1.1.jar:/opt/hadoop/share/hadoop/hdfs/lib/netty-codec-http-4.1.77.Final.jar:/opt/hadoop/share/hadoop/hdfs/lib/kerb-client-1.0.1.jar:/opt/hadoop/share/hadoop/hdfs/lib/jetty-http-9.4.43.v20210629.jar:/opt/hadoop/share/hadoop/hdfs/lib/commons-cli-1.2.jar:/opt/hadoop/share/hadoop/hdfs/lib/j2objc-annotations-1.1.jar:/opt/hadoop/share/hadoop/hdfs/lib/netty-transport-udt-4.1.77.Final.jar:/opt/hadoop/share/hadoop/hdfs/hadoop-hdfs-rbf-3.3.4-tests.jar:/opt/hadoop/share/hadoop/hdfs/hadoop-hdfs-nfs-3.3.4.jar:/opt/hadoop/share/hadoop/hdfs/hadoop-hdfs-3.3.4.jar:/opt/hadoop/share/hadoop/hdfs/hadoop-hdfs-client-3.3.4.jar:/opt/hadoop/share/hadoop/hdfs/hadoop-hdfs-native-client-3.3.4.jar:/opt/hadoop/share/hadoop/hdfs/hadoop-hdfs-native-client-3.3.4-tests.jar:/opt/hadoop/share/hadoop/hdfs/hadoop-hdfs-client-3.3.4-tests.jar:/opt/hadoop/share/hadoop/hdfs/hadoop-hdfs-3.3.4-tests.jar:/opt/hadoop/share/hadoop/hdfs/hadoop-hdfs-httpfs-3.3.4.jar:/opt/hadoop/share/hadoop/hdfs/hadoop-hdfs-rbf-3.3.4.jar:/opt/hadoop/share/hadoop/mapreduce/hadoop-mapreduce-client-common-3.3.4.jar:/opt/hadoop/share/hadoop/mapreduce/hadoop-mapreduce-client-core-3.3.4.jar:/opt/hadoop/share/hadoop/mapreduce/hadoop-mapreduce-client-hs-3.3.4.jar:/opt/hadoop/share/hadoop/mapreduce/hadoop-mapreduce-client-app-3.3.4.jar:/opt/hadoop/share/hadoop/mapreduce/hadoop-mapreduce-client-jobclient-3.3.4-tests.jar:/opt/hadoop/share/hadoop/mapreduce/hadoop-mapreduce-client-jobclient-3.3.4.jar:/opt/hadoop/share/hadoop/mapreduce/hadoop-mapreduce-client-shuffle-3.3.4.jar:/opt/hadoop/share/hadoop/mapreduce/hadoop-mapreduce-examples-3.3.4.jar:/opt/hadoop/share/hadoop/mapreduce/hadoop-mapreduce-client-nativetask-3.3.4.jar:/opt/hadoop/share/hadoop/mapreduce/hadoop-mapreduce-client-hs-plugins-3.3.4.jar:/opt/hadoop/share/hadoop/mapreduce/hadoop-mapreduce-client-uploader-3.3.4.jar:/opt/hadoop/share/hadoop/yarn:/opt/hadoop/share/hadoop/yarn/lib/jetty-client-9.4.43.v20210629.jar:/opt/hadoop/share/hadoop/yarn/lib/fst-2.50.jar:/opt/hadoop/share/hadoop/yarn/lib/websocket-api-9.4.43.v20210629.jar:/opt/hadoop/share/hadoop/yarn/lib/java-util-1.9.0.jar:/opt/hadoop/share/hadoop/yarn/lib/jersey-client-1.19.jar:/opt/hadoop/share/hadoop/yarn/lib/websocket-common-9.4.43.v20210629.jar:/opt/hadoop/share/hadoop/yarn/lib/websocket-server-9.4.43.v20210629.jar:/opt/hadoop/share/hadoop/yarn/lib/json-io-2.5.1.jar:/opt/hadoop/share/hadoop/yarn/lib/aopalliance-1.0.jar:/opt/hadoop/share/hadoop/yarn/lib/asm-analysis-9.1.jar:/opt/hadoop/share/hadoop/yarn/lib/websocket-client-9.4.43.v20210629.jar:/opt/hadoop/share/hadoop/yarn/lib/asm-tree-9.1.jar:/opt/hadoop/share/hadoop/yarn/lib/guice-servlet-4.0.jar:/opt/hadoop/share/hadoop/yarn/lib/bcpkix-jdk15on-1.60.jar:/opt/hadoop/share/hadoop/yarn/lib/websocket-servlet-9.4.43.v20210629.jar:/opt/hadoop/share/hadoop/yarn/lib/bcprov-jdk15on-1.60.jar:/opt/hadoop/share/hadoop/yarn/lib/swagger-annotations-1.5.4.jar:/opt/hadoop/share/hadoop/yarn/lib/ehcache-3.3.1.jar:/opt/hadoop/share/hadoop/yarn/lib/javax.websocket-client-api-1.0.jar:/opt/hadoop/share/hadoop/yarn/lib/guice-4.0.jar:/opt/hadoop/share/hadoop/yarn/lib/asm-commons-9.1.jar:/opt/hadoop/share/hadoop/yarn/lib/jackson-module-jaxb-annotations-2.12.7.jar:/opt/hadoop/share/hadoop/yarn/lib/metrics-core-3.2.4.jar:/opt/hadoop/share/hadoop/yarn/lib/jackson-jaxrs-json-provider-2.12.7.jar:/opt/hadoop/share/hadoop/yarn/lib/objenesis-2.6.jar:/opt/hadoop/share/hadoop/yarn/lib/jline-3.9.0.jar:/opt/hadoop/share/hadoop/yarn/lib/geronimo-jcache_1.0_spec-1.0-alpha-1.jar:/opt/hadoop/share/hadoop/yarn/lib/jakarta.xml.bind-api-2.3.2.jar:/opt/hadoop/share/hadoop/yarn/lib/javax.websocket-api-1.0.jar:/opt/hadoop/share/hadoop/yarn/lib/javax.inject-1.jar:/opt/hadoop/share/hadoop/yarn/lib/jetty-plus-9.4.43.v20210629.jar:/opt/hadoop/share/hadoop/yarn/lib/jna-5.2.0.jar:/opt/hadoop/share/hadoop/yarn/lib/jetty-annotations-9.4.43.v20210629.jar:/opt/hadoop/share/hadoop/yarn/lib/snakeyaml-1.26.jar:/opt/hadoop/share/hadoop/yarn/lib/jackson-jaxrs-base-2.12.7.jar:/opt/hadoop/share/hadoop/yarn/lib/javax-websocket-server-impl-9.4.43.v20210629.jar:/opt/hadoop/share/hadoop/yarn/lib/mssql-jdbc-6.2.1.jre7.jar:/opt/hadoop/share/hadoop/yarn/lib/HikariCP-java7-2.4.12.jar:/opt/hadoop/share/hadoop/yarn/lib/javax-websocket-client-impl-9.4.43.v20210629.jar:/opt/hadoop/share/hadoop/yarn/lib/jetty-jndi-9.4.43.v20210629.jar:/opt/hadoop/share/hadoop/yarn/lib/jersey-guice-1.19.jar:/opt/hadoop/share/hadoop/yarn/hadoop-yarn-server-applicationhistoryservice-3.3.4.jar:/opt/hadoop/share/hadoop/yarn/hadoop-yarn-services-api-3.3.4.jar:/opt/hadoop/share/hadoop/yarn/hadoop-yarn-registry-3.3.4.jar:/opt/hadoop/share/hadoop/yarn/hadoop-yarn-services-core-3.3.4.jar:/opt/hadoop/share/hadoop/yarn/hadoop-yarn-server-tests-3.3.4.jar:/opt/hadoop/share/hadoop/yarn/hadoop-yarn-server-common-3.3.4.jar:/opt/hadoop/share/hadoop/yarn/hadoop-yarn-applications-distributedshell-3.3.4.jar:/opt/hadoop/share/hadoop/yarn/hadoop-yarn-client-3.3.4.jar:/opt/hadoop/share/hadoop/yarn/hadoop-yarn-server-resourcemanager-3.3.4.jar:/opt/hadoop/share/hadoop/yarn/hadoop-yarn-server-timeline-pluginstorage-3.3.4.jar:/opt/hadoop/share/hadoop/yarn/hadoop-yarn-common-3.3.4.jar:/opt/hadoop/share/hadoop/yarn/hadoop-yarn-server-sharedcachemanager-3.3.4.jar:/opt/hadoop/share/hadoop/yarn/hadoop-yarn-server-nodemanager-3.3.4.jar:/opt/hadoop/share/hadoop/yarn/hadoop-yarn-server-router-3.3.4.jar:/opt/hadoop/share/hadoop/yarn/hadoop-yarn-applications-unmanaged-am-launcher-3.3.4.jar:/opt/hadoop/share/hadoop/yarn/hadoop-yarn-api-3.3.4.jar:/opt/hadoop/share/hadoop/yarn/hadoop-yarn-applications-mawo-core-3.3.4.jar:/opt/hadoop/share/hadoop/yarn/hadoop-yarn-server-web-proxy-3.3.4.jar\n",
      "STARTUP_MSG:   build = https://github.com/apache/hadoop.git -r a585a73c3e02ac62350c136643a5e7f6095a3dbb; compiled by 'stevel' on 2022-07-29T12:32Z\n",
      "STARTUP_MSG:   java = 17.0.14\n",
      "************************************************************/\n",
      "2025-02-15 10:48:34,692 INFO namenode.NameNode: registered UNIX signal handlers for [TERM, HUP, INT]\n",
      "2025-02-15 10:48:34,729 INFO namenode.NameNode: createNameNode [-format, -force]\n",
      "2025-02-15 10:48:34,913 INFO namenode.NameNode: Formatting using clusterid: CID-19ba0151-f46b-4f14-826c-aae72efab109\n",
      "2025-02-15 10:48:34,922 INFO namenode.FSEditLog: Edit logging is async:true\n",
      "2025-02-15 10:48:34,933 INFO namenode.FSNamesystem: KeyProvider: null\n",
      "2025-02-15 10:48:34,934 INFO namenode.FSNamesystem: fsLock is fair: true\n",
      "2025-02-15 10:48:34,934 INFO namenode.FSNamesystem: Detailed lock hold time metrics enabled: false\n",
      "2025-02-15 10:48:34,944 INFO namenode.FSNamesystem: fsOwner                = jovyan (auth:SIMPLE)\n",
      "2025-02-15 10:48:34,944 INFO namenode.FSNamesystem: supergroup             = supergroup\n",
      "2025-02-15 10:48:34,944 INFO namenode.FSNamesystem: isPermissionEnabled    = true\n",
      "2025-02-15 10:48:34,944 INFO namenode.FSNamesystem: isStoragePolicyEnabled = true\n",
      "2025-02-15 10:48:34,944 INFO namenode.FSNamesystem: HA Enabled: false\n",
      "2025-02-15 10:48:34,959 INFO common.Util: dfs.datanode.fileio.profiling.sampling.percentage set to 0. Disabling file IO profiling\n",
      "2025-02-15 10:48:34,964 INFO blockmanagement.DatanodeManager: dfs.block.invalidate.limit: configured=1000, counted=60, effected=1000\n",
      "2025-02-15 10:48:34,964 INFO blockmanagement.DatanodeManager: dfs.namenode.datanode.registration.ip-hostname-check=true\n",
      "2025-02-15 10:48:34,965 INFO blockmanagement.BlockManager: dfs.namenode.startup.delay.block.deletion.sec is set to 000:00:00:00.000\n",
      "2025-02-15 10:48:34,965 INFO blockmanagement.BlockManager: The block deletion will start around 2025 Feb 15 10:48:34\n",
      "2025-02-15 10:48:34,965 INFO util.GSet: Computing capacity for map BlocksMap\n",
      "2025-02-15 10:48:34,965 INFO util.GSet: VM type       = 64-bit\n",
      "2025-02-15 10:48:34,966 INFO util.GSet: 2.0% max memory 7.8 GB = 160.2 MB\n",
      "2025-02-15 10:48:34,966 INFO util.GSet: capacity      = 2^24 = 16777216 entries\n",
      "2025-02-15 10:48:34,969 INFO blockmanagement.BlockManager: Storage policy satisfier is disabled\n",
      "2025-02-15 10:48:34,969 INFO blockmanagement.BlockManager: dfs.block.access.token.enable = false\n",
      "2025-02-15 10:48:34,971 INFO blockmanagement.BlockManagerSafeMode: dfs.namenode.safemode.threshold-pct = 0.999\n",
      "2025-02-15 10:48:34,971 INFO blockmanagement.BlockManagerSafeMode: dfs.namenode.safemode.min.datanodes = 0\n",
      "2025-02-15 10:48:34,971 INFO blockmanagement.BlockManagerSafeMode: dfs.namenode.safemode.extension = 30000\n",
      "2025-02-15 10:48:34,971 INFO blockmanagement.BlockManager: defaultReplication         = 1\n",
      "2025-02-15 10:48:34,971 INFO blockmanagement.BlockManager: maxReplication             = 512\n",
      "2025-02-15 10:48:34,971 INFO blockmanagement.BlockManager: minReplication             = 1\n",
      "2025-02-15 10:48:34,971 INFO blockmanagement.BlockManager: maxReplicationStreams      = 2\n",
      "2025-02-15 10:48:34,971 INFO blockmanagement.BlockManager: redundancyRecheckInterval  = 3000ms\n",
      "2025-02-15 10:48:34,971 INFO blockmanagement.BlockManager: encryptDataTransfer        = false\n",
      "2025-02-15 10:48:34,971 INFO blockmanagement.BlockManager: maxNumBlocksToLog          = 1000\n",
      "2025-02-15 10:48:34,978 INFO namenode.FSDirectory: GLOBAL serial map: bits=29 maxEntries=536870911\n",
      "2025-02-15 10:48:34,978 INFO namenode.FSDirectory: USER serial map: bits=24 maxEntries=16777215\n",
      "2025-02-15 10:48:34,978 INFO namenode.FSDirectory: GROUP serial map: bits=24 maxEntries=16777215\n",
      "2025-02-15 10:48:34,978 INFO namenode.FSDirectory: XATTR serial map: bits=24 maxEntries=16777215\n",
      "2025-02-15 10:48:34,982 INFO util.GSet: Computing capacity for map INodeMap\n",
      "2025-02-15 10:48:34,982 INFO util.GSet: VM type       = 64-bit\n",
      "2025-02-15 10:48:34,983 INFO util.GSet: 1.0% max memory 7.8 GB = 80.1 MB\n",
      "2025-02-15 10:48:34,983 INFO util.GSet: capacity      = 2^23 = 8388608 entries\n",
      "2025-02-15 10:48:34,985 INFO namenode.FSDirectory: ACLs enabled? true\n",
      "2025-02-15 10:48:34,985 INFO namenode.FSDirectory: POSIX ACL inheritance enabled? true\n",
      "2025-02-15 10:48:34,985 INFO namenode.FSDirectory: XAttrs enabled? true\n",
      "2025-02-15 10:48:34,985 INFO namenode.NameNode: Caching file names occurring more than 10 times\n",
      "2025-02-15 10:48:34,987 INFO snapshot.SnapshotManager: Loaded config captureOpenFiles: false, skipCaptureAccessTimeOnlyChange: false, snapshotDiffAllowSnapRootDescendant: true, maxSnapshotLimit: 65536\n",
      "2025-02-15 10:48:34,988 INFO snapshot.SnapshotManager: SkipList is disabled\n",
      "2025-02-15 10:48:34,990 INFO util.GSet: Computing capacity for map cachedBlocks\n",
      "2025-02-15 10:48:34,990 INFO util.GSet: VM type       = 64-bit\n",
      "2025-02-15 10:48:34,991 INFO util.GSet: 0.25% max memory 7.8 GB = 20.0 MB\n",
      "2025-02-15 10:48:34,991 INFO util.GSet: capacity      = 2^21 = 2097152 entries\n",
      "2025-02-15 10:48:34,996 INFO metrics.TopMetrics: NNTop conf: dfs.namenode.top.window.num.buckets = 10\n",
      "2025-02-15 10:48:34,996 INFO metrics.TopMetrics: NNTop conf: dfs.namenode.top.num.users = 10\n",
      "2025-02-15 10:48:34,996 INFO metrics.TopMetrics: NNTop conf: dfs.namenode.top.windows.minutes = 1,5,25\n",
      "2025-02-15 10:48:34,998 INFO namenode.FSNamesystem: Retry cache on namenode is enabled\n",
      "2025-02-15 10:48:34,998 INFO namenode.FSNamesystem: Retry cache will use 0.03 of total heap and retry cache entry expiry time is 600000 millis\n",
      "2025-02-15 10:48:34,999 INFO util.GSet: Computing capacity for map NameNodeRetryCache\n",
      "2025-02-15 10:48:34,999 INFO util.GSet: VM type       = 64-bit\n",
      "2025-02-15 10:48:34,999 INFO util.GSet: 0.029999999329447746% max memory 7.8 GB = 2.4 MB\n",
      "2025-02-15 10:48:34,999 INFO util.GSet: capacity      = 2^18 = 262144 entries\n",
      "2025-02-15 10:48:35,009 INFO namenode.FSImage: Allocated new BlockPoolId: BP-962352086-172.18.0.2-1739645315006\n",
      "2025-02-15 10:48:35,018 INFO common.Storage: Storage directory /tmp/hadoop-jovyan/dfs/name has been successfully formatted.\n",
      "2025-02-15 10:48:35,032 INFO namenode.FSImageFormatProtobuf: Saving image file /tmp/hadoop-jovyan/dfs/name/current/fsimage.ckpt_0000000000000000000 using no compression\n",
      "2025-02-15 10:48:35,072 INFO namenode.FSImageFormatProtobuf: Image file /tmp/hadoop-jovyan/dfs/name/current/fsimage.ckpt_0000000000000000000 of size 401 bytes saved in 0 seconds .\n",
      "2025-02-15 10:48:35,078 INFO namenode.NNStorageRetentionManager: Going to retain 1 images with txid >= 0\n",
      "2025-02-15 10:48:35,094 INFO namenode.FSNamesystem: Stopping services started for active state\n",
      "2025-02-15 10:48:35,094 INFO namenode.FSNamesystem: Stopping services started for standby state\n",
      "2025-02-15 10:48:35,096 INFO namenode.FSImage: FSImageSaver clean checkpoint: txid=0 when meet shutdown.\n",
      "2025-02-15 10:48:35,096 INFO namenode.NameNode: SHUTDOWN_MSG: \n",
      "/************************************************************\n",
      "SHUTDOWN_MSG: Shutting down NameNode at 9a0138ce209d/172.18.0.2\n",
      "************************************************************/\n"
     ]
    }
   ],
   "source": [
    "# initialize the HDFS\n",
    "# if you see a message \"namenode is running in process 12345. Stop it first ...\"\n",
    "# the run /opt/hadoop/stop-dfs.sh first\n",
    "/opt/hadoop/init-dfs.sh"
   ]
  },
  {
   "cell_type": "code",
   "execution_count": 3,
   "metadata": {
    "vscode": {
     "languageId": "shellscript"
    }
   },
   "outputs": [
    {
     "name": "stdout",
     "output_type": "stream",
     "text": [
      "Starting HDFS ...\n"
     ]
    }
   ],
   "source": [
    "# start the HDFS services\n",
    "/opt/hadoop/start-dfs.sh"
   ]
  },
  {
   "cell_type": "code",
   "execution_count": 4,
   "metadata": {
    "vscode": {
     "languageId": "shellscript"
    }
   },
   "outputs": [
    {
     "name": "stdout",
     "output_type": "stream",
     "text": [
      "6742 NameNode\n",
      "7132 Jps\n",
      "6879 DataNode\n",
      "7007 SecondaryNameNode\n"
     ]
    }
   ],
   "source": [
    "# check Java processes running\n",
    "jps"
   ]
  },
  {
   "cell_type": "code",
   "execution_count": 5,
   "metadata": {
    "vscode": {
     "languageId": "shellscript"
    }
   },
   "outputs": [],
   "source": [
    "# check status of name node and data node\n",
    "open http://localhost:9870/"
   ]
  },
  {
   "cell_type": "code",
   "execution_count": 6,
   "metadata": {
    "vscode": {
     "languageId": "shellscript"
    }
   },
   "outputs": [],
   "source": [
    "# check status of data node\n",
    "open http://localhost:9864/"
   ]
  },
  {
   "cell_type": "code",
   "execution_count": 7,
   "metadata": {
    "vscode": {
     "languageId": "shellscript"
    }
   },
   "outputs": [],
   "source": [
    "# check status of secondary name node\n",
    "open http://localhost:9868/"
   ]
  },
  {
   "cell_type": "code",
   "execution_count": 8,
   "metadata": {
    "vscode": {
     "languageId": "shellscript"
    }
   },
   "outputs": [
    {
     "name": "stdout",
     "output_type": "stream",
     "text": [
      "Stopping HDFS ...\n"
     ]
    }
   ],
   "source": [
    "# stop the HDFS services\n",
    "/opt/hadoop/stop-dfs.sh"
   ]
  },
  {
   "cell_type": "code",
   "execution_count": 9,
   "metadata": {
    "vscode": {
     "languageId": "shellscript"
    }
   },
   "outputs": [
    {
     "name": "stdout",
     "output_type": "stream",
     "text": [
      "7989 Jps\n"
     ]
    }
   ],
   "source": [
    "# check if any Java processes are still running\n",
    "jps"
   ]
  },
  {
   "cell_type": "code",
   "execution_count": 10,
   "metadata": {
    "vscode": {
     "languageId": "shellscript"
    }
   },
   "outputs": [
    {
     "name": "stdout",
     "output_type": "stream",
     "text": [
      "/usr/local/spark\n"
     ]
    }
   ],
   "source": [
    "echo $SPARK_HOME"
   ]
  }
 ],
 "metadata": {
  "kernelspec": {
   "display_name": "Bash",
   "language": "bash",
   "name": "bash"
  },
  "language_info": {
   "codemirror_mode": "shell",
   "file_extension": ".sh",
   "mimetype": "text/x-sh",
   "name": "bash"
  }
 },
 "nbformat": 4,
 "nbformat_minor": 2
}
