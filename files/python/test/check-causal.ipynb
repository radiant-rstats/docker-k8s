{
 "cells": [
  {
   "cell_type": "markdown",
   "metadata": {},
   "source": [
    "# Checking causal ML\n"
   ]
  },
  {
   "cell_type": "code",
   "execution_count": 1,
   "metadata": {},
   "outputs": [],
   "source": [
    "## dowhy is not currently supported - you can always install it in a\n",
    "## separate project and virtual environment (use UV)\n",
    "# # Import required libraries and test basic functionality\n",
    "# try:\n",
    "#     import dowhy\n",
    "\n",
    "#     print(\"DoWhy successfully imported!\")\n",
    "\n",
    "#     # Basic dowhy example\n",
    "#     from dowhy import CausalModel\n",
    "#     import numpy as np\n",
    "#     import pandas as pd\n",
    "\n",
    "#     # Create simple synthetic data\n",
    "#     size = 1000\n",
    "#     data = pd.DataFrame(\n",
    "#         {\n",
    "#             \"X\": np.random.normal(0, 1, size),\n",
    "#             \"T\": np.random.binomial(1, 0.5, size),\n",
    "#             \"Y\": np.random.normal(0, 1, size),\n",
    "#         }\n",
    "#     )\n",
    "\n",
    "#     # Test dowhy\n",
    "#     model_dowhy = CausalModel(\n",
    "#         data=data, treatment=\"T\", outcome=\"Y\", common_causes=[\"X\"]\n",
    "#     )\n",
    "#     print(\"\\nDoWhy model created successfully!\")\n",
    "\n",
    "# except Exception as e:\n",
    "#     print(f\"Error occurred: {str(e)}\")"
   ]
  },
  {
   "cell_type": "code",
   "execution_count": 2,
   "metadata": {},
   "outputs": [],
   "source": [
    "## econml is not currently supported - you can always install it in a\n",
    "## separate project and virtual environment (use UV)\n",
    "\n",
    "# # Import required libraries and test basic functionality\n",
    "# try:\n",
    "#     from econml.dml import DML\n",
    "#     from sklearn.ensemble import RandomForestRegressor\n",
    "\n",
    "#     print(\"EconML successfully imported!\")\n",
    "\n",
    "#     # Test econml with existing data\n",
    "#     X = data[\"X\"].values.reshape(-1, 1)  # Features/confounders\n",
    "#     T = data[\"T\"].values  # Treatment\n",
    "#     Y = data[\"Y\"].values  # Outcome\n",
    "\n",
    "#     # Initialize the DML estimator with default models\n",
    "#     est = DML(\n",
    "#         model_y=RandomForestRegressor(n_estimators=100),\n",
    "#         model_t=RandomForestRegressor(n_estimators=100),\n",
    "#         model_final=RandomForestRegressor(n_estimators=100),\n",
    "#     )\n",
    "#     print(\"EconML model created successfully!\")\n",
    "\n",
    "#     # Fit the model\n",
    "#     ret = est.fit(Y, T, X=X)\n",
    "#     print(\"Example treatment effect:\", est.effect(X)[0])\n",
    "\n",
    "# except Exception as e:\n",
    "#     print(f\"Error occurred: {str(e)}\")"
   ]
  },
  {
   "cell_type": "code",
   "execution_count": 3,
   "metadata": {},
   "outputs": [
    {
     "name": "stdout",
     "output_type": "stream",
     "text": [
      "CausalML successfully imported!\n",
      "CausalML model created successfully!\n"
     ]
    }
   ],
   "source": [
    "# Import required libraries and test basic functionality\n",
    "try:\n",
    "    import causalml\n",
    "\n",
    "    print(\"CausalML successfully imported!\")\n",
    "\n",
    "    # Test causalml\n",
    "    from causalml.inference.meta import LRSRegressor\n",
    "\n",
    "    learner = LRSRegressor()\n",
    "    print(\"CausalML model created successfully!\")\n",
    "\n",
    "except Exception as e:\n",
    "    print(f\"Error occurred: {str(e)}\")"
   ]
  }
 ],
 "metadata": {
  "kernelspec": {
   "display_name": "base-uv",
   "language": "python",
   "name": "python3"
  },
  "language_info": {
   "codemirror_mode": {
    "name": "ipython",
    "version": 3
   },
   "file_extension": ".py",
   "mimetype": "text/x-python",
   "name": "python",
   "nbconvert_exporter": "python",
   "pygments_lexer": "ipython3",
   "version": "3.12.11"
  }
 },
 "nbformat": 4,
 "nbformat_minor": 2
}
