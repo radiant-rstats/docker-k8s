{
 "cells": [
  {
   "cell_type": "markdown",
   "metadata": {},
   "source": [
    "# Checking causal ML\n"
   ]
  },
  {
   "cell_type": "code",
   "execution_count": 1,
   "metadata": {},
   "outputs": [
    {
     "name": "stdout",
     "output_type": "stream",
     "text": [
      "DoWhy successfully imported!\n",
      "\n",
      "DoWhy model created successfully!\n"
     ]
    }
   ],
   "source": [
    "# Import required libraries and test basic functionality\n",
    "try:\n",
    "    import dowhy\n",
    "\n",
    "    print(\"DoWhy successfully imported!\")\n",
    "\n",
    "    # Basic dowhy example\n",
    "    from dowhy import CausalModel\n",
    "    import numpy as np\n",
    "    import pandas as pd\n",
    "\n",
    "    # Create simple synthetic data\n",
    "    size = 1000\n",
    "    data = pd.DataFrame(\n",
    "        {\"X\": np.random.normal(0, 1, size), \"T\": np.random.binomial(1, 0.5, size), \"Y\": np.random.normal(0, 1, size)}\n",
    "    )\n",
    "\n",
    "    # Test dowhy\n",
    "    model_dowhy = CausalModel(data=data, treatment=\"T\", outcome=\"Y\", common_causes=[\"X\"])\n",
    "    print(\"\\nDoWhy model created successfully!\")\n",
    "\n",
    "except Exception as e:\n",
    "    print(f\"Error occurred: {str(e)}\")"
   ]
  },
  {
   "cell_type": "code",
   "execution_count": 37,
   "metadata": {},
   "outputs": [
    {
     "name": "stdout",
     "output_type": "stream",
     "text": [
      "EconML successfully imported!\n",
      "EconML model created successfully!\n",
      "Example treatment effect: 0.25288322502022775\n"
     ]
    },
    {
     "name": "stderr",
     "output_type": "stream",
     "text": [
      "The final model has a nonzero intercept for at least one outcome; it will be subtracted, but consider fitting a model without an intercept if possible.\n"
     ]
    }
   ],
   "source": [
    "# Import required libraries and test basic functionality\n",
    "try:\n",
    "    from econml.dml import DML\n",
    "    from sklearn.ensemble import RandomForestRegressor\n",
    "\n",
    "    print(\"EconML successfully imported!\")\n",
    "\n",
    "    # Test econml with existing data\n",
    "    X = data[\"X\"].values.reshape(-1, 1)  # Features/confounders\n",
    "    T = data[\"T\"].values  # Treatment\n",
    "    Y = data[\"Y\"].values  # Outcome\n",
    "\n",
    "    # Initialize the DML estimator with default models\n",
    "    est = DML(\n",
    "        model_y=RandomForestRegressor(n_estimators=100),\n",
    "        model_t=RandomForestRegressor(n_estimators=100),\n",
    "        model_final=RandomForestRegressor(n_estimators=100),\n",
    "    )\n",
    "    print(\"EconML model created successfully!\")\n",
    "\n",
    "    # Fit the model\n",
    "    ret = est.fit(Y, T, X=X)\n",
    "    print(\"Example treatment effect:\", est.effect(X)[0])\n",
    "\n",
    "except Exception as e:\n",
    "    print(f\"Error occurred: {str(e)}\")"
   ]
  },
  {
   "cell_type": "code",
   "execution_count": 38,
   "metadata": {},
   "outputs": [
    {
     "name": "stdout",
     "output_type": "stream",
     "text": [
      "Error occurred: No module named 'causalml'\n"
     ]
    }
   ],
   "source": [
    "# Import required libraries and test basic functionality\n",
    "try:\n",
    "    import causalml\n",
    "\n",
    "    print(\"CausalML successfully imported!\")\n",
    "\n",
    "    # Test causalml\n",
    "    from causalml.inference.meta import LRSRegressor\n",
    "\n",
    "    learner = LRSRegressor()\n",
    "    print(\"CausalML model created successfully!\")\n",
    "\n",
    "except Exception as e:\n",
    "    print(f\"Error occurred: {str(e)}\")"
   ]
  }
 ],
 "metadata": {
  "kernelspec": {
   "display_name": "base",
   "language": "python",
   "name": "python3"
  },
  "language_info": {
   "codemirror_mode": {
    "name": "ipython",
    "version": 3
   },
   "file_extension": ".py",
   "mimetype": "text/x-python",
   "name": "python",
   "nbconvert_exporter": "python",
   "pygments_lexer": "ipython3",
   "version": "3.12.7"
  }
 },
 "nbformat": 4,
 "nbformat_minor": 2
}
