{
 "cells": [
  {
   "cell_type": "markdown",
   "metadata": {},
   "source": [
    "# Checking pytorch\n",
    "\n",
    "With and without GPU. GPU access is currently only possible on Intel based machines with NVIDIA GPUs"
   ]
  },
  {
   "cell_type": "code",
   "execution_count": 1,
   "metadata": {},
   "outputs": [
    {
     "name": "stdout",
     "output_type": "stream",
     "text": [
      "CUDA is available: True\n",
      "Current GPU device: NVIDIA A16\n",
      "\n",
      "CPU Tensor:\n",
      "tensor([[ 0.1179,  0.1374, -1.1238],\n",
      "        [-0.7767, -0.5810, -0.4733],\n",
      "        [-0.9841,  0.2147,  0.1074]])\n",
      "\n",
      "GPU Tensor:\n",
      "tensor([[ 0.1179,  0.1374, -1.1238],\n",
      "        [-0.7767, -0.5810, -0.4733],\n",
      "        [-0.9841,  0.2147,  0.1074]], device='cuda:0')\n",
      "\n",
      "Matrix multiplication result (CPU):\n",
      "tensor([[ 1.0131, -0.3049, -0.3183],\n",
      "        [ 0.8254,  0.1292,  1.0969],\n",
      "        [-0.3885, -0.2368,  1.0158]])\n"
     ]
    }
   ],
   "source": [
    "import torch\n",
    "\n",
    "# Check if CUDA (GPU) is available\n",
    "print(f\"CUDA is available: {torch.cuda.is_available()}\")\n",
    "if torch.cuda.is_available():\n",
    "    print(f\"Current GPU device: {torch.cuda.get_device_name()}\")\n",
    "\n",
    "# Create a sample tensor\n",
    "cpu_tensor = torch.randn(3, 3)\n",
    "print(\"\\nCPU Tensor:\")\n",
    "print(cpu_tensor)\n",
    "\n",
    "# Move tensor to GPU if available\n",
    "if torch.cuda.is_available():\n",
    "    gpu_tensor = cpu_tensor.cuda()\n",
    "    print(\"\\nGPU Tensor:\")\n",
    "    print(gpu_tensor)\n",
    "\n",
    "# Basic operation example\n",
    "result = cpu_tensor.matmul(cpu_tensor)\n",
    "print(\"\\nMatrix multiplication result (CPU):\")\n",
    "print(result)"
   ]
  },
  {
   "cell_type": "code",
   "execution_count": 2,
   "metadata": {},
   "outputs": [
    {
     "name": "stdout",
     "output_type": "stream",
     "text": [
      "CUDA version: 12.6\n",
      "Available devices: 1\n",
      "Current device: NVIDIA A16\n"
     ]
    }
   ],
   "source": [
    "import torch\n",
    "\n",
    "print(f\"CUDA version: {torch.version.cuda}\")\n",
    "print(f\"Available devices: {torch.cuda.device_count()}\")\n",
    "if torch.cuda.is_available():\n",
    "    print(f\"Current device: {torch.cuda.get_device_name()}\")"
   ]
  },
  {
   "cell_type": "code",
   "execution_count": 3,
   "metadata": {
    "vscode": {
     "languageId": "shellscript"
    }
   },
   "outputs": [],
   "source": [
    "# nvidia-ctk --version\n",
    "# nvidia-container-cli --version\n",
    "# nvidia-smi"
   ]
  },
  {
   "cell_type": "markdown",
   "metadata": {
    "vscode": {
     "languageId": "shellscript"
    }
   },
   "source": [
    "Seems we have the following on the host system:\n",
    "\n",
    "* GPU: NVIDIA A16\n",
    "* Container toolkit version: 1.17.4\n",
    "* NVIDIA-SMI 570.86.10\n",
    "* Driver Version: 570.86.10\n",
    "* CUDA Version: 12.8"
   ]
  },
  {
   "cell_type": "code",
   "execution_count": 4,
   "metadata": {
    "vscode": {
     "languageId": "shellscript"
    }
   },
   "outputs": [
    {
     "name": "stdout",
     "output_type": "stream",
     "text": [
      "PyTorch version: 2.6.0+cu126\n",
      "CUDA available: True\n",
      "CUDA version: 12.6\n",
      "Current device: NVIDIA A16\n",
      "CUDA tensor created successfully: tensor([[0.3801, 0.6089, 0.2225],\n",
      "        [0.1539, 0.8502, 0.2112],\n",
      "        [0.8333, 0.7343, 0.6278]], device='cuda:0')\n"
     ]
    }
   ],
   "source": [
    "import torch\n",
    "\n",
    "print(f\"PyTorch version: {torch.__version__}\")\n",
    "print(f\"CUDA available: {torch.cuda.is_available()}\")\n",
    "print(f\"CUDA version: {torch.version.cuda}\")\n",
    "\n",
    "if torch.cuda.is_available():\n",
    "    print(f\"Current device: {torch.cuda.get_device_name()}\")\n",
    "    # Try a simple CUDA operation\n",
    "    x = torch.rand(3,3).cuda()\n",
    "    print(\"CUDA tensor created successfully:\", x)"
   ]
  },
  {
   "cell_type": "code",
   "execution_count": 5,
   "metadata": {
    "vscode": {
     "languageId": "shellscript"
    }
   },
   "outputs": [
    {
     "data": {
      "text/plain": [
       "'/opt/conda/lib/python3.12/site-packages/torch/__init__.py'"
      ]
     },
     "execution_count": 5,
     "metadata": {},
     "output_type": "execute_result"
    }
   ],
   "source": [
    "torch.__file__"
   ]
  }
 ],
 "metadata": {
  "kernelspec": {
   "display_name": "base",
   "language": "python",
   "name": "python3"
  },
  "language_info": {
   "codemirror_mode": {
    "name": "ipython",
    "version": 3
   },
   "file_extension": ".py",
   "mimetype": "text/x-python",
   "name": "python",
   "nbconvert_exporter": "python",
   "pygments_lexer": "ipython3",
   "version": "3.12.7"
  }
 },
 "nbformat": 4,
 "nbformat_minor": 2
}
