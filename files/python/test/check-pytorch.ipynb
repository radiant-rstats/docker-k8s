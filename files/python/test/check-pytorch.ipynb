{
 "cells": [
  {
   "cell_type": "markdown",
   "metadata": {},
   "source": [
    "# Checking pytorch\n",
    "\n",
    "With and without GPU. GPU access is currently only possible on Intel based machines with NVIDIA GPUs"
   ]
  },
  {
   "cell_type": "code",
   "execution_count": 1,
   "metadata": {},
   "outputs": [
    {
     "name": "stdout",
     "output_type": "stream",
     "text": [
      "CUDA is available: True\n",
      "Current GPU device: NVIDIA A16\n",
      "\n",
      "CPU Tensor:\n",
      "tensor([[-0.6716,  1.1265,  0.7818],\n",
      "        [ 2.1351, -0.1726,  0.8595],\n",
      "        [-0.0103,  0.0392,  1.1856]])\n",
      "\n",
      "GPU Tensor:\n",
      "tensor([[-0.6716,  1.1265,  0.7818],\n",
      "        [ 2.1351, -0.1726,  0.8595],\n",
      "        [-0.0103,  0.0392,  1.1856]], device='cuda:0')\n",
      "\n",
      "Matrix multiplication result (CPU):\n",
      "tensor([[ 2.8481, -0.9203,  1.3701],\n",
      "        [-1.8113,  2.4687,  2.5399],\n",
      "        [ 0.0784,  0.0281,  1.4313]])\n"
     ]
    }
   ],
   "source": [
    "import torch\n",
    "\n",
    "# Check if CUDA (GPU) is available\n",
    "print(f\"CUDA is available: {torch.cuda.is_available()}\")\n",
    "if torch.cuda.is_available():\n",
    "    print(f\"Current GPU device: {torch.cuda.get_device_name()}\")\n",
    "\n",
    "# Create a sample tensor\n",
    "cpu_tensor = torch.randn(3, 3)\n",
    "print(\"\\nCPU Tensor:\")\n",
    "print(cpu_tensor)\n",
    "\n",
    "# Move tensor to GPU if available\n",
    "if torch.cuda.is_available():\n",
    "    gpu_tensor = cpu_tensor.cuda()\n",
    "    print(\"\\nGPU Tensor:\")\n",
    "    print(gpu_tensor)\n",
    "\n",
    "# Basic operation example\n",
    "result = cpu_tensor.matmul(cpu_tensor)\n",
    "print(\"\\nMatrix multiplication result (CPU):\")\n",
    "print(result)"
   ]
  },
  {
   "cell_type": "code",
   "execution_count": 2,
   "metadata": {},
   "outputs": [
    {
     "name": "stdout",
     "output_type": "stream",
     "text": [
      "CUDA version: 12.6\n",
      "Available devices: 8\n",
      "Current device: NVIDIA A16\n"
     ]
    }
   ],
   "source": [
    "import torch\n",
    "print(f\"CUDA version: {torch.version.cuda}\")\n",
    "print(f\"Available devices: {torch.cuda.device_count()}\")\n",
    "if torch.cuda.is_available():\n",
    "    print(f\"Current device: {torch.cuda.get_device_name()}\")"
   ]
  },
  {
   "cell_type": "code",
   "execution_count": 3,
   "metadata": {
    "vscode": {
     "languageId": "shellscript"
    }
   },
   "outputs": [],
   "source": [
    "# nvidia-ctk --version\n",
    "# nvidia-container-cli --version"
   ]
  },
  {
   "cell_type": "markdown",
   "metadata": {
    "vscode": {
     "languageId": "shellscript"
    }
   },
   "source": [
    "# seems we have\n",
    "CUDA version: 12.4\n",
    "GPU: NVIDIA A16\n",
    "Container toolkit version: 1.17.4"
   ]
  },
  {
   "cell_type": "code",
   "execution_count": 4,
   "metadata": {
    "vscode": {
     "languageId": "shellscript"
    }
   },
   "outputs": [
    {
     "name": "stdout",
     "output_type": "stream",
     "text": [
      "PyTorch version: 2.6.0+cu126\n",
      "CUDA available: True\n",
      "CUDA version: 12.6\n",
      "Current device: NVIDIA A16\n",
      "CUDA tensor created successfully: tensor([[0.9373, 0.1667, 0.7268],\n",
      "        [0.0199, 0.2263, 0.8252],\n",
      "        [0.7975, 0.4041, 0.4180]], device='cuda:0')\n"
     ]
    }
   ],
   "source": [
    "import torch\n",
    "\n",
    "print(f\"PyTorch version: {torch.__version__}\")\n",
    "print(f\"CUDA available: {torch.cuda.is_available()}\")\n",
    "print(f\"CUDA version: {torch.version.cuda}\")\n",
    "\n",
    "if torch.cuda.is_available():\n",
    "    print(f\"Current device: {torch.cuda.get_device_name()}\")\n",
    "    # Try a simple CUDA operation\n",
    "    x = torch.rand(3,3).cuda()\n",
    "    print(\"CUDA tensor created successfully:\", x)"
   ]
  }
 ],
 "metadata": {
  "kernelspec": {
   "display_name": "base",
   "language": "python",
   "name": "python3"
  },
  "language_info": {
   "codemirror_mode": {
    "name": "ipython",
    "version": 3
   },
   "file_extension": ".py",
   "mimetype": "text/x-python",
   "name": "python",
   "nbconvert_exporter": "python",
   "pygments_lexer": "ipython3",
   "version": "3.12.7"
  }
 },
 "nbformat": 4,
 "nbformat_minor": 2
}
