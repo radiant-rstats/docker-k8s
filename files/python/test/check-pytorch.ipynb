{
 "cells": [
  {
   "cell_type": "markdown",
   "metadata": {},
   "source": [
    "# Checking pytorch\n",
    "\n",
    "With and without GPU. GPU access is currently only possible on Intel based machines with NVIDIA GPUs"
   ]
  },
  {
   "cell_type": "code",
   "execution_count": 1,
   "metadata": {},
   "outputs": [
    {
     "name": "stdout",
     "output_type": "stream",
     "text": [
      "CUDA is available: False\n",
      "\n",
      "CPU Tensor:\n",
      "tensor([[-0.6328,  0.2693,  2.9040],\n",
      "        [-0.9328,  0.1999, -0.9515],\n",
      "        [ 0.0692,  0.6601,  0.8936]])\n",
      "\n",
      "Matrix multiplication result (CPU):\n",
      "tensor([[ 0.3504,  1.8004,  0.5010],\n",
      "        [ 0.3379, -0.8393, -3.7493],\n",
      "        [-0.5977,  0.7405,  0.3715]])\n"
     ]
    }
   ],
   "source": [
    "import torch\n",
    "\n",
    "# Check if CUDA (GPU) is available\n",
    "print(f\"CUDA is available: {torch.cuda.is_available()}\")\n",
    "if torch.cuda.is_available():\n",
    "    print(f\"Current GPU device: {torch.cuda.get_device_name()}\")\n",
    "\n",
    "# Create a sample tensor\n",
    "cpu_tensor = torch.randn(3, 3)\n",
    "print(\"\\nCPU Tensor:\")\n",
    "print(cpu_tensor)\n",
    "\n",
    "# Move tensor to GPU if available\n",
    "if torch.cuda.is_available():\n",
    "    gpu_tensor = cpu_tensor.cuda()\n",
    "    print(\"\\nGPU Tensor:\")\n",
    "    print(gpu_tensor)\n",
    "\n",
    "# Basic operation example\n",
    "result = cpu_tensor.matmul(cpu_tensor)\n",
    "print(\"\\nMatrix multiplication result (CPU):\")\n",
    "print(result)"
   ]
  }
 ],
 "metadata": {
  "kernelspec": {
   "display_name": "base",
   "language": "python",
   "name": "python3"
  },
  "language_info": {
   "codemirror_mode": {
    "name": "ipython",
    "version": 3
   },
   "file_extension": ".py",
   "mimetype": "text/x-python",
   "name": "python",
   "nbconvert_exporter": "python",
   "pygments_lexer": "ipython3",
   "version": "3.12.7"
  }
 },
 "nbformat": 4,
 "nbformat_minor": 2
}
