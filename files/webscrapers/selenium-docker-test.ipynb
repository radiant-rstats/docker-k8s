{
 "cells": [
  {
   "cell_type": "markdown",
   "metadata": {},
   "source": [
    "# Selenium\n",
    "\n",
    "Using selenium for webscraping from dynamic websites"
   ]
  },
  {
   "cell_type": "markdown",
   "metadata": {},
   "source": [
    "Press 6 + Enter in the launch menu to start a docker container running Selenium"
   ]
  },
  {
   "cell_type": "markdown",
   "metadata": {},
   "source": [
    "![](../../install/figures/rsm-launch-menu-macos-arm.png)"
   ]
  },
  {
   "cell_type": "code",
   "execution_count": 1,
   "metadata": {},
   "outputs": [],
   "source": [
    "import requests\n",
    "from bs4 import BeautifulSoup\n",
    "from selenium import webdriver\n",
    "from selenium.webdriver.common.by import By\n",
    "from selenium.webdriver.support.ui import WebDriverWait\n",
    "from selenium.webdriver.support import expected_conditions as EC\n",
    "from dotenv import load_dotenv\n",
    "import os\n",
    "import time\n",
    "import signal\n",
    "import sys\n",
    "from selenium.webdriver.firefox.options import Options\n",
    "\n",
    "\n",
    "class WebDriverManager:\n",
    "    def __init__(self):\n",
    "        self.driver = None\n",
    "        self.options = self._setup_options()\n",
    "        self._setup_signal_handlers()\n",
    "        self._setup_driver()\n",
    "\n",
    "    def _setup_options(self):\n",
    "        options = Options()\n",
    "        options.add_argument(\"--headless\")\n",
    "        options.add_argument(\"--disable-gpu\")\n",
    "        options.add_argument(\"--no-sandbox\")\n",
    "        options.add_argument(\"--disable-dev-shm-usage\")\n",
    "        return options\n",
    "\n",
    "    def _setup_signal_handlers(self):\n",
    "        def signal_handler(signum, frame):\n",
    "            if self.driver:\n",
    "                self.driver.quit()\n",
    "            sys.exit(1)\n",
    "\n",
    "        signal.signal(signal.SIGINT, signal_handler)\n",
    "        signal.signal(signal.SIGTERM, signal_handler)\n",
    "\n",
    "    def _check_selenium_endpoint(self, url):\n",
    "        try:\n",
    "            requests.get(url, timeout=2)\n",
    "            return True\n",
    "        except requests.RequestException:\n",
    "            return False\n",
    "\n",
    "    def _cleanup_existing_sessions(self, url):\n",
    "        try:\n",
    "            requests.delete(f\"{url}/wd/hub/session\", timeout=2)\n",
    "            time.sleep(1)\n",
    "            return True\n",
    "        except:\n",
    "            return False\n",
    "\n",
    "    def _setup_driver(self):\n",
    "        try:\n",
    "            endpoints = [\n",
    "                \"http://rsm-selenium0:4444\",\n",
    "                \"http://rsm-selenium:4444\",\n",
    "                \"http://127.0.0.1:4444\",\n",
    "            ]\n",
    "\n",
    "            for url in endpoints:\n",
    "                if self._check_selenium_endpoint(url):\n",
    "                    # Cleanup any existing sessions\n",
    "                    self._cleanup_existing_sessions(url)\n",
    "\n",
    "                    # Create new driver with timeouts\n",
    "                    self.driver = webdriver.Remote(\n",
    "                        command_executor=f\"{url}/wd/hub\", options=self.options\n",
    "                    )\n",
    "\n",
    "                    # Set timeouts\n",
    "                    self.driver.set_script_timeout(20)  # 20 seconds timeout\n",
    "                    self.driver.set_page_load_timeout(30)  # 30 seconds timeout\n",
    "                    self.driver.implicitly_wait(10)  # 10 seconds implicit wait\n",
    "\n",
    "                    return  # Successfully created driver\n",
    "\n",
    "            raise ConnectionError(\"No Selenium endpoint available\")\n",
    "\n",
    "        except Exception as e:\n",
    "            if self.driver:\n",
    "                self.driver.quit()\n",
    "            raise e\n",
    "\n",
    "    def reset_selenium(self):\n",
    "        \"\"\"Reset Selenium by cleaning up existing sessions\"\"\"\n",
    "        if hasattr(self, \"driver\") and self.driver:\n",
    "            try:\n",
    "                self.driver.quit()\n",
    "            except:\n",
    "                pass\n",
    "            self.driver = None\n",
    "\n",
    "        time.sleep(2)\n",
    "        self._setup_driver()\n",
    "        return self.driver is not None\n",
    "\n",
    "    def __del__(self):\n",
    "        if hasattr(self, \"driver\") and self.driver:\n",
    "            try:\n",
    "                self.driver.quit()\n",
    "            except:\n",
    "                pass\n",
    "\n",
    "    def get_driver(self):\n",
    "        return self.driver\n",
    "\n",
    "\n",
    "def start_driver():\n",
    "    driver_manager = WebDriverManager()\n",
    "    return driver_manager.get_driver()"
   ]
  },
  {
   "cell_type": "code",
   "execution_count": 2,
   "metadata": {},
   "outputs": [],
   "source": [
    "driver = start_driver()\n",
    "driver.quit()"
   ]
  },
  {
   "cell_type": "code",
   "execution_count": 3,
   "metadata": {},
   "outputs": [],
   "source": [
    "# if running without docker\n",
    "# URL = \"http://127.0.0.1:8123\"\n",
    "\n",
    "# if running in docker, use the container name as the hostname\n",
    "# this uses the shared 'rsm-docker' network to connect\n",
    "# URL = \"http://rsm-msba-k8s-latest:8123\"\n",
    "\n",
    "URL = \"https://rsm-shiny-02.ucsd.edu/selenium/\""
   ]
  },
  {
   "cell_type": "code",
   "execution_count": 4,
   "metadata": {},
   "outputs": [
    {
     "name": "stdout",
     "output_type": "stream",
     "text": [
      "=== BeautifulSoup results ===\n",
      "Title found by BeautifulSoup: Scraping Demo Page\n",
      "Button found by BeautifulSoup: True\n",
      "Dynamic text element found by BeautifulSoup: True\n",
      "Can BeautifulSoup find the dynamic text? <div class=\"shiny-text-output\" id=\"dynamicText\"></div>\n"
     ]
    }
   ],
   "source": [
    "print(\"=== BeautifulSoup results ===\")\n",
    "response = requests.get(URL)\n",
    "soup = BeautifulSoup(response.content, \"html.parser\")\n",
    "\n",
    "# BeautifulSoup can only static elements like the title\n",
    "print(\n",
    "    \"Title found by BeautifulSoup:\",\n",
    "    soup.find(\"title\").text if soup.find(\"title\") else \"No title found\",\n",
    ")\n",
    "print(\"Button found by BeautifulSoup:\", bool(soup.find(\"button\", id=\"showText\")))\n",
    "print(\"Dynamic text element found by BeautifulSoup:\", bool(soup.find(id=\"dynamicText\")))\n",
    "print(\"Can BeautifulSoup find the dynamic text?\", soup.find(id=\"dynamicText\"))"
   ]
  },
  {
   "cell_type": "code",
   "execution_count": 5,
   "metadata": {},
   "outputs": [
    {
     "name": "stdout",
     "output_type": "stream",
     "text": [
      "=== Selenium Results ===\n",
      "Title found by Selenium: Scraping Demo Page\n",
      "Button found by Selenium: True\n",
      "Dynamic text after click: This text was dynamically generated!\n"
     ]
    }
   ],
   "source": [
    "import time\n",
    "\n",
    "driver = start_driver()\n",
    "print(\"=== Selenium Results ===\")\n",
    "\n",
    "driver.get(URL)\n",
    "\n",
    "# Wait for the page to load\n",
    "wait = WebDriverWait(driver, 5)\n",
    "\n",
    "# Check for title\n",
    "print(\"Title found by Selenium:\", driver.title)\n",
    "\n",
    "# Look for the button\n",
    "button = wait.until(EC.presence_of_element_located((By.ID, \"showText\")))\n",
    "print(\"Button found by Selenium:\", bool(button))\n",
    "\n",
    "# Click the button\n",
    "button.click()\n",
    "time.sleep(1)  # Give the app a moment to update\n",
    "\n",
    "# Look for the dynamic text\n",
    "dynamic_text = wait.until(EC.presence_of_element_located((By.ID, \"dynamicText\")))\n",
    "print(\"Dynamic text after click:\", dynamic_text.text)\n",
    "\n",
    "driver.quit()"
   ]
  },
  {
   "cell_type": "markdown",
   "metadata": {},
   "source": [
    "The below requires that you have a .env file setup with the following variables that have your UCSD username and password. The most common location to place this file is in your home directory (e.g., ~/.env):\n",
    "\n",
    "* SELENIUM_USERNAME=<your_username>\n",
    "* SELENIUM_PASSWORD=<your_password>"
   ]
  },
  {
   "cell_type": "code",
   "execution_count": 6,
   "metadata": {},
   "outputs": [
    {
     "name": "stdout",
     "output_type": "stream",
     "text": [
      "=== Selenium results with authentication ===\n",
      "Button found by Selenium: True\n",
      "Title found by selenium: Scraping Demo Page\n",
      "Dynamic text after click: This text was dynamically generated!\n"
     ]
    }
   ],
   "source": [
    "URL = \"https://rsm-shiny-02.ucsd.edu/selenium_auth/\"\n",
    "load_dotenv()\n",
    "\n",
    "driver = start_driver()\n",
    "print(\"=== Selenium results with authentication ===\")\n",
    "\n",
    "driver.get(URL)\n",
    "wait = WebDriverWait(driver, 5)\n",
    "\n",
    "# check if we need to login\n",
    "try:\n",
    "    login_button = wait.until(\n",
    "        EC.presence_of_element_located(\n",
    "            (By.CSS_SELECTOR, \"input[type='submit'][value='Log in']\")\n",
    "        )\n",
    "    )\n",
    "\n",
    "    # find username and password fields\n",
    "    username_field = driver.find_element(By.CSS_SELECTOR, \"input[type='text']\")\n",
    "    password_field = driver.find_element(By.CSS_SELECTOR, \"input[type='password']\")\n",
    "\n",
    "    if login_button:\n",
    "        # enter credentials\n",
    "        load_dotenv()\n",
    "        username = os.getenv(\"SELENIUM_USERNAME\")\n",
    "        password = os.getenv(\"SELENIUM_PASSWORD\")\n",
    "\n",
    "        if not username or not password:\n",
    "            raise ValueError(\"Missing credentials in .env file\")\n",
    "\n",
    "        username_field.send_keys(username)\n",
    "        password_field.send_keys(password)\n",
    "        login_button.click()\n",
    "\n",
    "        # wait for login to complete\n",
    "        time.sleep(2)\n",
    "except:\n",
    "    print(\"No login required or already logged in\")\n",
    "\n",
    "button = wait.until(EC.presence_of_element_located((By.ID, \"showText\")))\n",
    "print(\"Button found by Selenium:\", bool(button))\n",
    "\n",
    "button.click()\n",
    "time.sleep(1)\n",
    "\n",
    "print(\"Title found by selenium:\", driver.title)\n",
    "dynamic_text = wait.until(EC.presence_of_element_located((By.ID, \"dynamicText\")))\n",
    "print(\"Dynamic text after click:\", dynamic_text.text)\n",
    "\n",
    "driver.quit()"
   ]
  }
 ],
 "metadata": {
  "kernelspec": {
   "display_name": ".venv",
   "language": "python",
   "name": "python3"
  },
  "language_info": {
   "codemirror_mode": {
    "name": "ipython",
    "version": 3
   },
   "file_extension": ".py",
   "mimetype": "text/x-python",
   "name": "python",
   "nbconvert_exporter": "python",
   "pygments_lexer": "ipython3",
   "version": "3.12.11"
  }
 },
 "nbformat": 4,
 "nbformat_minor": 2
}
